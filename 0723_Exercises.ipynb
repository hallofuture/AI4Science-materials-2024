{
 "cells": [
  {
   "cell_type": "markdown",
   "id": "6b0f9b9d-9f92-4c73-8967-f0b14a5c24cf",
   "metadata": {},
   "source": [
    "### Exercise 1\n",
    "In this exercise, you'll use Pandas, a powerful data manipulation library in Python, to read data from a CSV file named `MP_data.csv`. Your task is to analyze the `composition` column to determine the number of binary, ternary, and quaternary compounds it contains.\r\n",
    "\r\n",
    "**Objectives:**\r\n",
    "1. Load the dataset from `MP_data.csv`.\r\n",
    "2. Count and categorize the compounds based on the number of distinct elements they contain:\r\n",
    "   - **Binary compounds** have exactly two different elements.\r\n",
    "   - **Ternary compounds** have exactly three different elements.\r\n",
    "   - **Quaternary compounds** have exactly four different elements.\r\n",
    "\r\n",
    "**Hint:** To find the number of distinct elements in a chemical formula, use the `Composition` class from Pymatgen and get the length of the elements attribute like this: `num_elements = len(Composition(formula).elements)`.\r\n",
    "\r\n",
    "This exercise will help you understand basic data processing tasks using Pandas, including how to read a file and perform simple counts based on conditional checks.\r\n"
   ]
  },
  {
   "cell_type": "code",
   "execution_count": 12,
   "id": "0c5577b2-7de2-4e67-9a7d-52df0ea02ee9",
   "metadata": {},
   "outputs": [],
   "source": [
    "# your answer for Exercise 1\n",
    "\n",
    "\n",
    "\n"
   ]
  },
  {
   "cell_type": "markdown",
   "id": "7a389d97-69d3-4f71-94f8-43c47036296c",
   "metadata": {},
   "source": [
    "### Exercise 2\n",
    "In this exercise, you will practice your data visualization skills by generating a bar chart that represents the frequency of different space groups in a dataset. You will use Python's Matplotlib library, a powerful tool for creating a wide range of static, animated, and interactive visualizations.\r\n",
    "\r\n",
    "**Objectives:**\r\n",
    "1. Read data from a CSV file using Pandas.\r\n",
    "2. Extract the `spaceg_oup.number` column to analyze the frequency of each space group.\r\n",
    "3. Plot the results using a bar chart where:\r\n",
    "   - The x-axis represents the space group numbers.\r\n",
    "   - The y-axis shows the count of occurrences for each space group in the dataset.\r\n",
    "\r\n",
    "**Hint:** Use `value_counts()` on the `s_acegroup.number` column to easily count how many times each space group appears, and then use `plt.bar()` to create the bar chart.\r\n",
    "\r\n",
    "This exercise will enhance your ability to manipulate data and create meaningful visualizations, which are essential skills in data analysis.\r\n"
   ]
  },
  {
   "cell_type": "code",
   "execution_count": 13,
   "id": "2c031633-fe25-4400-908b-3c4207eff5c6",
   "metadata": {},
   "outputs": [],
   "source": [
    "# your answer for Exercise 2\n",
    "\n",
    "\n",
    "\n"
   ]
  },
  {
   "cell_type": "markdown",
   "id": "54febd65-67a8-4601-92e2-8d6a1c88e8d8",
   "metadata": {},
   "source": [
    "### Exercise 3\n",
    "This exercise involves using the Pymatgen library, which is a powerful tool for materials analysis in Python. You will practice reading chemical data from a CSV file and using Pymatgen to derive detailed composition information.\r\n",
    "\r\n",
    "**Objectives:**\r\n",
    "1. Load a CSV file containing chemical formulas.\r\n",
    "2. Use Pymatgen to extract the full chemical formula and the number of distinct elements for each compound.\r\n",
    "3. Identify and count all materials that contain Lithium and have more than three different elemen**Hint:** Check for the presence of Lithium in each formula by using `'Li' in comp.formula`, where `comp` is a `Composition` object created from each formula. This method checks if 'Li' is part of the formula string, ensuring accurate detection of Lithium in the composition. Count the elements as shown in the provided code to identify compositions with more than three elements.\n",
    "cises.\r\n",
    "\r\n",
    "This exercise will help you develop skills in handling and analyzing material compositions, which are crucial for research and development in materials"
   ]
  },
  {
   "cell_type": "code",
   "execution_count": 14,
   "id": "2cdeccab-077a-421d-a51b-18058f3685b3",
   "metadata": {},
   "outputs": [],
   "source": [
    "# your answer for Exercise 3\n",
    "\n",
    "\n",
    "\n",
    "\n",
    "\n",
    "\n"
   ]
  },
  {
   "cell_type": "markdown",
   "id": "214e826f-1511-4bd5-8ee1-9ee7f16fe002",
   "metadata": {},
   "source": [
    "### Exercise 4\n",
    "Handling Crystallographic Information Files with Pymatgens\r\n",
    "\r\n",
    "This exercise leverages the Pymatgen library's capabilities to process crystallographic information files (CIFs). You will gain hands-on experience with loading structural data and analyzing it to extract meaningful information.\r\n",
    "\r\n",
    "**Objectives:**\r\n",
    "1. Access and load structures from five CIF files located in a specified directory (`../cifs/`).\r\n",
    "2. For each structure, determine the total count of distinct atomic numbers and element types.\r\n",
    "3. Compile the results into a Pandas DataFrame for easy viewing and analysis.\r\n",
    "\r\n",
    "**Hint:** Use `Structure.from_file(os.path.join(folder_path, file_name))` to load each CIF file. After loading, create a list of atomic numbers for each element in the structure using a list comprehension: `[element.Z for element in structure.composition.elements]`.\r\n",
    "in working with crystallographic data, a fundamental skill in materials science and engineering.\r\n"
   ]
  },
  {
   "cell_type": "code",
   "execution_count": 15,
   "id": "54f4e4d6-a323-4f62-ac40-8f8ca66287e7",
   "metadata": {},
   "outputs": [],
   "source": [
    "# your answer for Exercise 4\n",
    "\n",
    "\n",
    "\n",
    "\n",
    "\n",
    "\n"
   ]
  },
  {
   "cell_type": "markdown",
   "id": "ad476fe0-664d-4d1f-9644-65bcc97b9af4",
   "metadata": {},
   "source": [
    "### Exercise 5\n",
    "This exercise combines hands-on practice with VESTA, a software for visualizing crystal structures, and a Python script for generating visualizations of CIF files. You'll identify specific crystal structures and learn to automate the visualization process.\r\n",
    "\r\n",
    "**Objectives:**\r\n",
    "1. Manually visualize five CIF files using VESTA to identify two cubic materials. Take screenshots of the identified cubic structures.\r\n",
    "2. Optionally, use a provided Python script to automate the visualization of a list of CIF files from a folder, enhancing your skills in script-based data processing and visualization.\r\n",
    "\r\n",
    "**Part 1: Manual Visualization with VESTA**\r\n",
    "- Open each of the five CIF files in VESTA.\r\n",
    "- Examine the structure and symmetry information to determine if they are cubic.\r\n",
    "- Capture and save screenshots of the two cubic structures you identify.\r\n",
    "\r\n",
    "**Part 2: Automated Visualization with Python (Optional)**\r\n",
    "- Utilize the `visualize_cif` script provided in your course materials to generate structure images for a list of CIF files.\r\n",
    "- Modify the script as needed to suit your specific dataset or visualization preferences.\r\n",
    "\r\n",
    "**Hints:**\r\n",
    "- **VESTA:** Open VESTA, go to 'File' > 'Open' and select your CIF file. To identify cubic materials, check the symmetry or space group listed inructure images. \r\n",
    "\r\n",
    "This exercise will help you develop practical skills in both manual and automated visualization techniques, providing a comprehensive understanding of how to analyze and present crystallographic data effectively.\r\n",
    " data effectively.\r\n",
    " data effectively.\r\n"
   ]
  },
  {
   "cell_type": "code",
   "execution_count": 16,
   "id": "d05d837c-ca8c-4db0-b99e-fd8170c8981b",
   "metadata": {},
   "outputs": [],
   "source": [
    "# your answer for Exercise 5 can be written in doc document."
   ]
  }
 ],
 "metadata": {
  "kernelspec": {
   "display_name": "TCSP",
   "language": "python",
   "name": "tcsp"
  },
  "language_info": {
   "codemirror_mode": {
    "name": "ipython",
    "version": 3
   },
   "file_extension": ".py",
   "mimetype": "text/x-python",
   "name": "python",
   "nbconvert_exporter": "python",
   "pygments_lexer": "ipython3",
   "version": "3.11.7"
  }
 },
 "nbformat": 4,
 "nbformat_minor": 5
}
