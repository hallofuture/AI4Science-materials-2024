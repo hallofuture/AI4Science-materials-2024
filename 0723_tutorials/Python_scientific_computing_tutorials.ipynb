{
 "cells": [
  {
   "cell_type": "markdown",
   "id": "d5239182-feb1-4960-abc4-e1fbd35d89bb",
   "metadata": {},
   "source": [
    "# Part 0: Make sure you installed pymatgen"
   ]
  },
  {
   "cell_type": "code",
   "execution_count": 1,
   "id": "5b485175-b521-4efb-996b-eb186a670e2b",
   "metadata": {},
   "outputs": [
    {
     "name": "stdout",
     "output_type": "stream",
     "text": [
      "2023.12.18\n"
     ]
    }
   ],
   "source": [
    "#check the version for pymatgen\n",
    "import pymatgen.core\n",
    "print(pymatgen.core.__version__)"
   ]
  },
  {
   "cell_type": "markdown",
   "id": "1f19fded-9f16-4317-a3a3-b09275385719",
   "metadata": {},
   "source": [
    "# Part 1: Composition Data\r\n",
    "\r\n",
    "Composition data refers to the chemical makeup of a material, indicating the elements present and their proportions. It is a fundamental concept in materials science, providing insight into the properties and applications of a materia.\r\n",
    "\r\n",
    "Example: `Fe2O3` represents a composition containing 2 parts iron (Fe) and 3 parts oxygenO).#\r\n",
    "\r\n",
    "## Operations with Composition Data\r\n",
    "This section explores how to manipulate and analyze composition data using pymatgen, a powerful library for materials anlysis.\r\n",
    "\r\n",
    "### 1. Creating a Composition\r\n",
    "You can define compositions using either a formula string or a dictionary with elements and their qantities.\r\n",
    "\r\n",
    "### 2. Accessing Composition Information\r\n",
    "Retrieve specific details about the composition, such as the elements involved, their quantities, and the total molecular weight.ular weight.\r\n",
    "\r\n",
    "### 3. Analyzing Elemental Properties\r\n",
    "Explore more detailed properties of the composition, like the atomic numbers of the elements, their ratios, and other descriptors that help understand the material's chemistry.\r\n",
    "nalysis\r\n",
    ".\r\n"
   ]
  },
  {
   "cell_type": "code",
   "execution_count": 2,
   "id": "1192962d-e94e-49ca-ad1b-d6ca339cb717",
   "metadata": {},
   "outputs": [
    {
     "name": "stdout",
     "output_type": "stream",
     "text": [
      "1. Creating Composition objects:\n",
      "Composition 1: Fe2 O3\n",
      "Composition 2: Li1 Fe1 P1 O4\n",
      "Composition 3: H2 O1\n",
      "\n",
      "2. Accessing composition information:\n",
      "Elements in comp1: [Element Fe, Element O]\n",
      "Amount of Fe in comp1: 2.0\n",
      "Weight of comp2: 157.76 g/mol\n",
      "\n",
      "3. Element ratios:\n",
      "Fe:O ratio in comp1: 0.67\n",
      "Fractional composition of comp2: Li0.14285714 Fe0.14285714 P0.14285714 O0.57142857\n",
      "\n",
      "5. Composition analysis and comparisons:\n",
      "Is comp1 metal? False\n",
      "Number of atoms in comp2: 7\n",
      "Reduced formula of comp2: LiFePO4\n",
      "Are comp1 and comp2 equal? False\n",
      "\n",
      "6. Elemental properties:\n",
      "Average electronegativity of comp1: 2.80\n",
      "\n",
      "7. Composition manipulations:\n",
      "Mixed composition (comp1 + comp3): Fe2 O4 H2\n",
      "Scaled composition (2 * comp2): Li2 Fe2 P2 O8\n",
      "\n",
      "8. Chemical system:\n",
      "Chemical system of comp1: Fe-O\n",
      "Chemical system of comp2: Fe-Li-O-P\n",
      "\n",
      "9. Composition descriptors:\n",
      "Element composition of comp1: {'Fe': 2.0, 'O': 3.0}\n"
     ]
    }
   ],
   "source": [
    "from pymatgen.core import Composition\n",
    "\n",
    "# 1. Creating Composition objects\n",
    "print(\"1. Creating Composition objects:\")\n",
    "comp1 = Composition(\"Fe2O3\")\n",
    "comp2 = Composition({\"Li\": 1, \"Fe\": 1, \"P\": 1, \"O\": 4})\n",
    "comp3 = Composition(\"H2O\")\n",
    "\n",
    "print(f\"Composition 1: {comp1}\")\n",
    "print(f\"Composition 2: {comp2}\")\n",
    "print(f\"Composition 3: {comp3}\")\n",
    "\n",
    "# 2. Accessing composition information\n",
    "print(\"\\n2. Accessing composition information:\")\n",
    "print(f\"Elements in comp1: {comp1.elements}\")\n",
    "print(f\"Amount of Fe in comp1: {comp1['Fe']}\")\n",
    "print(f\"Weight of comp2: {comp2.weight:.2f} g/mol\")\n",
    "\n",
    "# 3. Element ratios\n",
    "print(\"\\n3. Element ratios:\")\n",
    "print(f\"Fe:O ratio in comp1: {comp1.get_atomic_fraction('Fe') / comp1.get_atomic_fraction('O'):.2f}\")\n",
    "print(f\"Fractional composition of comp2: {comp2.fractional_composition}\")\n",
    "\n",
    "# 5. Composition analysis and comparisons\n",
    "print(\"\\n5. Composition analysis and comparisons:\")\n",
    "print(f\"Is comp1 metal? {comp1.is_element}\")\n",
    "print(f\"Number of atoms in comp2: {comp2.num_atoms}\")\n",
    "print(f\"Reduced formula of comp2: {comp2.reduced_formula}\")\n",
    "print(f\"Are comp1 and comp2 equal? {comp1 == comp2}\")\n",
    "\n",
    "# 6. Elemental properties\n",
    "print(\"\\n6. Elemental properties:\")\n",
    "print(f\"Average electronegativity of comp1: {comp1.average_electroneg:.2f}\")\n",
    "\n",
    "# 7. Composition manipulations\n",
    "print(\"\\n7. Composition manipulations:\")\n",
    "mixed_comp = comp1 + comp3\n",
    "print(f\"Mixed composition (comp1 + comp3): {mixed_comp}\")\n",
    "scaled_comp = 2 * comp2\n",
    "print(f\"Scaled composition (2 * comp2): {scaled_comp}\")\n",
    "\n",
    "# 8. Chemical system\n",
    "print(\"\\n8. Chemical system:\")\n",
    "print(f\"Chemical system of comp1: {comp1.chemical_system}\")\n",
    "print(f\"Chemical system of comp2: {comp2.chemical_system}\")\n",
    "\n",
    "# 9. Composition descriptors\n",
    "print(\"\\n9. Composition descriptors:\")\n",
    "print(f\"Element composition of comp1: {comp1.get_el_amt_dict()}\")"
   ]
  },
  {
   "cell_type": "markdown",
   "id": "1928d331-cb3f-43ec-bbfb-8c2923216152",
   "metadata": {},
   "source": [
    "# Part 2: Let's make a Structure object\n",
    "We can create ``Structure`` objects:\n",
    "* Using Python\n",
    "* From a file\n",
    "* From an API (eg. a database of structures like the Materials Project)\n",
    "\n",
    "## We'll start by creating a basic ``Structure`` using Python."
   ]
  },
  {
   "cell_type": "code",
   "execution_count": 3,
   "id": "3bb17cbd-95d4-4b65-a71e-a3ed4cccd6cf",
   "metadata": {},
   "outputs": [
    {
     "name": "stdout",
     "output_type": "stream",
     "text": [
      "Full Formula (Sr1 Pb1 O3)\n",
      "Reduced Formula: SrPbO3\n",
      "abc   :   3.900000   3.900000   3.900000\n",
      "angles:  90.000000  90.000000  90.000000\n",
      "pbc   :       True       True       True\n",
      "Sites (5)\n",
      "  #  SP      a    b    c\n",
      "---  ----  ---  ---  ---\n",
      "  0  Sr    0    0    0\n",
      "  1  Pb    0.5  0.5  0.5\n",
      "  2  O     0.5  0.5  0\n",
      "  3  O     0    0.5  0.5\n",
      "  4  O     0.5  0    0.5\n"
     ]
    }
   ],
   "source": [
    "#creating a basic structure using python\n",
    "from pymatgen.core import Lattice, Structure\n",
    "\n",
    "# Define the lattice (cell lengths and angles). Note that the units are Angstroms\n",
    "a, b, c = 3.9, 3.9, 3.9\n",
    "alpha, beta, gamma = 90, 90, 90\n",
    "lattice = Lattice.from_parameters(a, b, c, alpha, beta, gamma)\n",
    "\n",
    "# Define the basis (atomic positions and species)\n",
    "species = [\"Sr\", \"Pb\", \"O\", \"O\", \"O\"]\n",
    "coords = [\n",
    "    [0.0, 0.0, 0.0],         # Pb\n",
    "    [0.5, 0.5, 0.5],         # Ti\n",
    "    [0.5, 0.5, 0.0],         # O1\n",
    "    [0.0, 0.5, 0.5],         # O2\n",
    "    [0.5, 0.0, 0.5]          # O3\n",
    "]\n",
    "\n",
    "# Create the structure\n",
    "PTO_structure = Structure(lattice, species, coords)\n",
    "print(PTO_structure)  # print the Structure"
   ]
  },
  {
   "cell_type": "markdown",
   "id": "56bd0a71-75b7-4977-b0af-0fc4ad44a97b",
   "metadata": {},
   "source": [
    "## Then we can load a basic ``Structure`` from existing file. \n",
    "* Download the crystal strcutre from an online database (The Materials Project)\n",
    "* The Materials Project web site: https://next-gen.materialsproject.org/\n",
    "\n",
    "### We can also load a structure from an API (Materials Project)\n",
    "* Using the API will give you instant access to >150,000 crystal structures that are available on the Materials Project web site."
   ]
  },
  {
   "cell_type": "code",
   "execution_count": 4,
   "id": "77463ab3-f39a-4146-b76f-05e1d6c9d0fb",
   "metadata": {},
   "outputs": [
    {
     "name": "stdout",
     "output_type": "stream",
     "text": [
      "Full Formula (Ti1 Pb1 O3)\n",
      "Reduced Formula: TiPbO3\n",
      "abc   :   3.969049   3.969049   3.969049\n",
      "angles:  90.000000  90.000000  90.000000\n",
      "pbc   :       True       True       True\n",
      "Sites (5)\n",
      "  #  SP      a    b    c\n",
      "---  ----  ---  ---  ---\n",
      "  0  Ti4+  0.5  0.5  0.5\n",
      "  1  Pb2+  0    0    0\n",
      "  2  O2-   0    0.5  0.5\n",
      "  3  O2-   0.5  0    0.5\n",
      "  4  O2-   0.5  0.5  0\n"
     ]
    }
   ],
   "source": [
    "#loading a structure from file\n",
    "PTO_structure_from_cif = Structure.from_file(\"files/TiPbO3.cif\")\n",
    "print(PTO_structure_from_cif)  # print the structure - note the oxidation states!"
   ]
  },
  {
   "cell_type": "markdown",
   "id": "dfea0af0-df08-47a8-89cb-c3077896046c",
   "metadata": {},
   "source": [
    "## What can you do directly with a Structure?\n",
    "* Once you define a ``Structure``, many different functions and analysis are available"
   ]
  },
  {
   "cell_type": "code",
   "execution_count": 5,
   "id": "0ac9d45a-01bf-4052-ad61-b6cc1eef37b6",
   "metadata": {},
   "outputs": [
    {
     "name": "stdout",
     "output_type": "stream",
     "text": [
      "1. Creating Structure objects:\n",
      "Structure 1: Full Formula (Fe1 O3)\n",
      "Reduced Formula: FeO3\n",
      "abc   :   4.200000   4.200000   4.200000\n",
      "angles:  90.000000  90.000000  90.000000\n",
      "pbc   :       True       True       True\n",
      "Sites (4)\n",
      "  #  SP      a    b    c\n",
      "---  ----  ---  ---  ---\n",
      "  0  Fe    0    0    0\n",
      "  1  O     0.5  0.5  0.5\n",
      "  2  O     0.5  0.5  0\n",
      "  3  O     0.5  0    0.5\n",
      "\n",
      "2. Accessing structure information:\n",
      "Number of sites in structure1: 4\n",
      "Species at first site: Fe1\n",
      "Lattice of structure1: 4.2 0.0 0.0\n",
      "0.0 4.2 0.0\n",
      "0.0 0.0 4.2\n",
      "\n",
      "3. Site-specific information:\n",
      "Fractional coordinates of first site: [0 0 0]\n",
      "Distance between first and second site: 3.6373066958946425\n",
      "\n",
      "4. Neighbor analysis:\n",
      "Neighbors of first site within 3 Å: 8\n",
      "\n",
      "5. Structure properties:\n",
      "Volume of the unit cell: 74.09 Å^3\n",
      "\n",
      "6. Symmetry and system properties:\n",
      "Space group of structure1: ('P4/mmm', 123)\n"
     ]
    }
   ],
   "source": [
    "from pymatgen.core import Structure, Lattice\n",
    "\n",
    "# 1. Creating Structure objects\n",
    "print(\"1. Creating Structure objects:\")\n",
    "# Define a lattice for the structure\n",
    "lattice = Lattice.cubic(4.2)  # Example with a cubic lattice with a 4.2 Å lattice parameter\n",
    "# Create a structure with spacegroup, lattice, species, and coordinates\n",
    "structure1 = Structure(lattice, [\"Fe\", \"O\", \"O\", \"O\"], [[0, 0, 0], [0.5, 0.5, 0.5], [0.5, 0.5, 0], [0.5, 0, 0.5]])\n",
    "\n",
    "print(f\"Structure 1: {structure1}\")\n",
    "\n",
    "# 2. Accessing structure information\n",
    "print(\"\\n2. Accessing structure information:\")\n",
    "print(f\"Number of sites in structure1: {len(structure1)}\")\n",
    "print(f\"Species at first site: {structure1[0].species}\")\n",
    "print(f\"Lattice of structure1: {structure1.lattice}\")\n",
    "\n",
    "# 3. Site-specific information\n",
    "print(\"\\n3. Site-specific information:\")\n",
    "print(f\"Fractional coordinates of first site: {structure1[0].frac_coords}\")\n",
    "print(f\"Distance between first and second site: {structure1.get_distance(0, 1)}\")\n",
    "\n",
    "# 4. Neighbor analysis\n",
    "print(\"\\n4. Neighbor analysis:\")\n",
    "neighbors = structure1.get_neighbors(structure1[0], 3)  # Get neighbors within 3 Å\n",
    "print(f\"Neighbors of first site within 3 Å: {len(neighbors)}\")\n",
    "\n",
    "# 5. Structure properties\n",
    "print(\"\\n5. Structure properties:\")\n",
    "print(f\"Volume of the unit cell: {structure1.volume:.2f} Å^3\")\n",
    "\n",
    "# 6. Symmetry and system properties\n",
    "print(\"\\n6. Symmetry and system properties:\")\n",
    "print(f\"Space group of structure1: {structure1.get_space_group_info()}\")\n"
   ]
  },
  {
   "cell_type": "markdown",
   "id": "2a2c6353-ea40-4221-b181-c1c346e8420a",
   "metadata": {},
   "source": [
    "# Part 3: Matminer\r",
    "### What is Matminer?\n",
    "* Matminer is an open-source library for performing materials data mining\n",
    "  \n",
    "* Matminer facilitates the extraction of materials data from various sources, manipulation of materials data, and running data mining algorithms on materials data\n",
    "\n",
    "### Exploring and visualizing \n",
    "1. Loads the \"elastic_tensor_2015\" dataset.\n",
    "2. Displays the first few rows and column names of the dataset.\n",
    "3. Shows properties of the first material in the dataset, including its formula, number of sites, volume, and elastic properties.\n",
    "4. Finds the material with the highest bulk modulus.\n",
    "5. Calculates and prints average properties for all materials.\n",
    "6. Creates a scatter plot of bulk modulus vs shear modulus.\n",
    "7. Creates a histogram of the number of sites in the materials.\n",
    "\n",
    "* Ensure you have installed all necessary libraries (matminer, pandas, matplotlib)\n",
    "* Copy this code into a Jupyter notebook\n",
    "* Run each cell in order.\r\n",
    "\n"
   ]
  },
  {
   "cell_type": "code",
   "execution_count": 20,
   "id": "2da6e679-2ed8-43a7-9505-f96da47874b8",
   "metadata": {},
   "outputs": [],
   "source": [
    "# First, let's import the necessary libraries\n",
    "import pandas as pd\n",
    "from matminer.datasets import load_dataset\n",
    "from matminer.featurizers.composition import ElementProperty\n",
    "from matminer.featurizers.structure import DensityFeatures\n",
    "from pymatgen.core import Composition\n",
    "import matplotlib.pyplot as plt"
   ]
  },
  {
   "cell_type": "code",
   "execution_count": 7,
   "id": "28ad02b7-1ddd-4473-a49d-d781b96876de",
   "metadata": {},
   "outputs": [
    {
     "name": "stdout",
     "output_type": "stream",
     "text": [
      "Loading the elastic tensor dataset...\n",
      "Dataset loaded successfully!\n"
     ]
    }
   ],
   "source": [
    "# Load the elastic tensor dataset\n",
    "print(\"Loading the elastic tensor dataset...\")\n",
    "df = load_dataset(\"elastic_tensor_2015\") # loads a dataset of elastic tensors\n",
    "print(\"Dataset loaded successfully!\") # prints the first five entries in the dataframe"
   ]
  },
  {
   "cell_type": "code",
   "execution_count": 8,
   "id": "8f4dfab8-d00e-45f8-9d9d-38a69cf28d6a",
   "metadata": {},
   "outputs": [
    {
     "name": "stdout",
     "output_type": "stream",
     "text": [
      "\n",
      "First few rows of the dataset:\n",
      "  material_id    formula  nsites  space_group      volume  \\\n",
      "0    mp-10003    Nb4CoSi      12          124  194.419802   \n",
      "1    mp-10010  Al(CoSi)2       5          164   61.987320   \n",
      "2    mp-10015       SiOs       2          221   25.952539   \n",
      "3    mp-10021         Ga       4           63   76.721433   \n",
      "4    mp-10025      SiRu2      12           62  160.300999   \n",
      "\n",
      "                                           structure  elastic_anisotropy  \\\n",
      "0  [[0.94814328 2.07280467 2.5112    ] Nb, [5.273...            0.030688   \n",
      "1  [[0. 0. 0.] Al, [1.96639263 1.13529553 0.75278...            0.266910   \n",
      "2   [[1.480346 1.480346 1.480346] Si, [0. 0. 0.] Os]            0.756489   \n",
      "3  [[0.         1.09045794 0.84078375] Ga, [0.   ...            2.376805   \n",
      "4  [[1.0094265  4.24771709 2.9955487 ] Si, [3.028...            0.196930   \n",
      "\n",
      "      G_Reuss       G_VRH     G_Voigt     K_Reuss       K_VRH     K_Voigt  \\\n",
      "0   96.844535   97.141604   97.438674  194.267623  194.268884  194.270146   \n",
      "1   93.939650   96.252006   98.564362  173.647763  175.449907  177.252050   \n",
      "2  120.962289  130.112955  139.263621  295.077545  295.077545  295.077545   \n",
      "3   12.205989   15.101901   17.997812   49.025963   49.130670   49.235377   \n",
      "4  100.110773  101.947798  103.784823  255.055257  256.768081  258.480904   \n",
      "\n",
      "   poisson_ratio                                  compliance_tensor  \\\n",
      "0       0.285701  [[0.004385293093993, -0.0016070693558990002, -...   \n",
      "1       0.268105  [[0.0037715428949660003, -0.000844229828709, -...   \n",
      "2       0.307780  [[0.0019959391925840004, -0.000433146670736000...   \n",
      "3       0.360593  [[0.021647143908635, -0.005207263618160001, -0...   \n",
      "4       0.324682  [[0.00410214297725, -0.001272204332729, -0.001...   \n",
      "\n",
      "                                      elastic_tensor  \\\n",
      "0  [[311.33514638650246, 144.45092552856926, 126....   \n",
      "1  [[306.93357350984974, 88.02634955100905, 105.6...   \n",
      "2  [[569.5291276937579, 157.8517489654999, 157.85...   \n",
      "3  [[69.28798774976904, 34.7875015216915, 37.3877...   \n",
      "4  [[349.3767766177825, 186.67131003104407, 176.4...   \n",
      "\n",
      "                             elastic_tensor_original  \\\n",
      "0  [[311.33514638650246, 144.45092552856926, 126....   \n",
      "1  [[306.93357350984974, 88.02634955100905, 105.6...   \n",
      "2  [[569.5291276937579, 157.8517489654999, 157.85...   \n",
      "3  [[70.13259066665267, 40.60474945058445, 37.387...   \n",
      "4  [[407.4791016459293, 176.4759188081947, 213.83...   \n",
      "\n",
      "                                                 cif  kpoint_density  \\\n",
      "0  #\\#CIF1.1\\n###################################...            7000   \n",
      "1  #\\#CIF1.1\\n###################################...            7000   \n",
      "2  #\\#CIF1.1\\n###################################...            7000   \n",
      "3  #\\#CIF1.1\\n###################################...            7000   \n",
      "4  #\\#CIF1.1\\n###################################...            7000   \n",
      "\n",
      "                                              poscar  \n",
      "0  Nb8 Co2 Si2\\n1.0\\n6.221780 0.000000 0.000000\\n...  \n",
      "1  Al1 Co2 Si2\\n1.0\\n3.932782 0.000000 0.000000\\n...  \n",
      "2  Si1 Os1\\n1.0\\n2.960692 0.000000 0.000000\\n0.00...  \n",
      "3  Ga4\\n1.0\\n2.803229 0.000000 0.000000\\n0.000000...  \n",
      "4  Si4 Ru8\\n1.0\\n4.037706 0.000000 0.000000\\n0.00...  \n"
     ]
    }
   ],
   "source": [
    "# Let's look at the first few rows of our dataset\n",
    "print(\"\\nFirst few rows of the dataset:\") \n",
    "print(df.head()) # prints the first five entries in the dataframe"
   ]
  },
  {
   "cell_type": "code",
   "execution_count": 9,
   "id": "efb1ffa3-f45b-41ca-9177-3f865f16b301",
   "metadata": {},
   "outputs": [
    {
     "name": "stdout",
     "output_type": "stream",
     "text": [
      "\n",
      "Columns in the dataset:\n",
      "Index(['material_id', 'formula', 'nsites', 'space_group', 'volume',\n",
      "       'structure', 'elastic_anisotropy', 'G_Reuss', 'G_VRH', 'G_Voigt',\n",
      "       'K_Reuss', 'K_VRH', 'K_Voigt', 'poisson_ratio', 'compliance_tensor',\n",
      "       'elastic_tensor', 'elastic_tensor_original', 'cif', 'kpoint_density',\n",
      "       'poscar'],\n",
      "      dtype='object')\n"
     ]
    }
   ],
   "source": [
    "# Print column names to see what we're working with\n",
    "print(\"\\nColumns in the dataset:\")\n",
    "print(df.columns)"
   ]
  },
  {
   "cell_type": "code",
   "execution_count": 11,
   "id": "0e461a23-1ed9-4db6-8e3c-13a3e2e85beb",
   "metadata": {},
   "outputs": [
    {
     "name": "stdout",
     "output_type": "stream",
     "text": [
      "\n",
      "Creating 'composition' column...\n"
     ]
    }
   ],
   "source": [
    "# Create a 'composition' column from the 'formula' column\n",
    "print(\"\\nCreating 'composition' column...\")\n",
    "df['composition'] = df['formula'].apply(Composition)"
   ]
  },
  {
   "cell_type": "code",
   "execution_count": 12,
   "id": "9e9cca99-b07e-4a76-bce8-e703a630676e",
   "metadata": {},
   "outputs": [
    {
     "name": "stdout",
     "output_type": "stream",
     "text": [
      "\n",
      "Applying ElementProperty featurizer...\n"
     ]
    },
    {
     "name": "stderr",
     "output_type": "stream",
     "text": [
      "ElementProperty: 100%|████████████████████████████████████████████████████████████████| 1181/1181 [00:01<00:00, 783.34it/s]\n"
     ]
    }
   ],
   "source": [
    "# Now, let's use a simple featurizer to extract some properties from the compositions\n",
    "print(\"\\nApplying ElementProperty featurizer...\")\n",
    "ep_featurizer = ElementProperty.from_preset(\"magpie\")\n",
    "df = ep_featurizer.featurize_dataframe(df, \"composition\")"
   ]
  },
  {
   "cell_type": "code",
   "execution_count": 13,
   "id": "64c9afc6-e787-47bf-b67a-60f38e9d6772",
   "metadata": {},
   "outputs": [
    {
     "name": "stdout",
     "output_type": "stream",
     "text": [
      "\n",
      "New features added:\n",
      "Index(['material_id', 'formula', 'nsites', 'space_group', 'volume',\n",
      "       'structure', 'elastic_anisotropy', 'G_Reuss', 'G_VRH', 'G_Voigt',\n",
      "       ...\n",
      "       'MagpieData range GSmagmom', 'MagpieData mean GSmagmom',\n",
      "       'MagpieData avg_dev GSmagmom', 'MagpieData mode GSmagmom',\n",
      "       'MagpieData minimum SpaceGroupNumber',\n",
      "       'MagpieData maximum SpaceGroupNumber',\n",
      "       'MagpieData range SpaceGroupNumber', 'MagpieData mean SpaceGroupNumber',\n",
      "       'MagpieData avg_dev SpaceGroupNumber',\n",
      "       'MagpieData mode SpaceGroupNumber'],\n",
      "      dtype='object', length=153)\n"
     ]
    }
   ],
   "source": [
    "# Let's see what new features we've added\n",
    "print(\"\\nNew features added:\")\n",
    "print(df.columns)"
   ]
  },
  {
   "cell_type": "code",
   "execution_count": 37,
   "id": "badf91d8-c830-4b19-bbd1-4f6769e19bd6",
   "metadata": {},
   "outputs": [
    {
     "name": "stdout",
     "output_type": "stream",
     "text": [
      "\n",
      "Properties of the first material in our dataset:\n",
      "Chemical formula: Nb4CoSi\n",
      "Elastic tensor: [[ 3.11335146e+02  1.44450926e+02  1.26175581e+02  0.00000000e+00\n",
      "  -1.10347467e-01  0.00000000e+00]\n",
      " [ 1.44450926e+02  3.11320432e+02  1.26168858e+02  0.00000000e+00\n",
      "  -1.12160678e-01  0.00000000e+00]\n",
      " [ 1.26175581e+02  1.26168858e+02  3.32185004e+02  0.00000000e+00\n",
      "  -1.07540953e-01  0.00000000e+00]\n",
      " [ 0.00000000e+00  0.00000000e+00  0.00000000e+00  9.89181876e+01\n",
      "   0.00000000e+00  0.00000000e+00]\n",
      " [-1.10347467e-01 -1.12160678e-01 -1.07540953e-01  0.00000000e+00\n",
      "   9.89209795e+01  0.00000000e+00]\n",
      " [ 0.00000000e+00  0.00000000e+00  0.00000000e+00  0.00000000e+00\n",
      "   0.00000000e+00  1.03339132e+02]]\n",
      "MagpieData maximum SpaceGroupNumber: 229.0\n"
     ]
    }
   ],
   "source": [
    "# Let's look at a specific material and its properties\n",
    "print(\"\\nProperties of the first material in our dataset:\")\n",
    "first_material = df.iloc[0]\n",
    "print(f\"Chemical formula: {first_material['formula']}\")\n",
    "print(f\"Elastic tensor: {first_material['elastic_tensor']}\")\n",
    "print(f\"MagpieData maximum SpaceGroupNumber: {first_material['MagpieData maximum SpaceGroupNumber']}\")"
   ]
  },
  {
   "cell_type": "code",
   "execution_count": 38,
   "id": "e01286ad-7615-47bf-b709-493901af9dd7",
   "metadata": {},
   "outputs": [
    {
     "name": "stdout",
     "output_type": "stream",
     "text": [
      "\n",
      "Finding the material with the highest bulk modulus...\n",
      "The material with the highest bulk modulus is:\n",
      "Chemical formula: C\n",
      "Bulk modulus: 435.6615 GPa\n"
     ]
    }
   ],
   "source": [
    "# Let's try to find the material with the highest bulk modulus\n",
    "print(\"\\nFinding the material with the highest bulk modulus...\")\n",
    "max_bulk_modulus_material = df.loc[df['K_VRH'].idxmax()]\n",
    "print(f\"The material with the highest bulk modulus is:\")\n",
    "print(f\"Chemical formula: {max_bulk_modulus_material['formula']}\")\n",
    "print(f\"Bulk modulus: {max_bulk_modulus_material['K_VRH']:.4f} GPa\")"
   ]
  },
  {
   "cell_type": "code",
   "execution_count": 39,
   "id": "dccc64e2-bd55-481f-a11b-00ffe52cd798",
   "metadata": {},
   "outputs": [
    {
     "name": "stdout",
     "output_type": "stream",
     "text": [
      "\n",
      "Properties of the first material in our dataset:\n",
      "Chemical formula: Nb4CoSi\n",
      "Number of sites: 12\n",
      "Volume: 194.419802449 Å³\n",
      "Bulk modulus: 194.26888435900003 GPa\n",
      "Shear modulus: 97.1416044794 GPa\n"
     ]
    }
   ],
   "source": [
    "# Let's look at a specific material and its properties\n",
    "print(\"\\nProperties of the first material in our dataset:\")\n",
    "first_material = df.iloc[0]\n",
    "print(f\"Chemical formula: {first_material['formula']}\")\n",
    "print(f\"Number of sites: {first_material['nsites']}\")\n",
    "print(f\"Volume: {first_material['volume']} Å³\")\n",
    "print(f\"Bulk modulus: {first_material['K_VRH']} GPa\")\n",
    "print(f\"Shear modulus: {first_material['G_VRH']} GPa\")"
   ]
  },
  {
   "cell_type": "code",
   "execution_count": 40,
   "id": "d730a068-87a4-4fbe-a0aa-059524b095d6",
   "metadata": {},
   "outputs": [
    {
     "name": "stdout",
     "output_type": "stream",
     "text": [
      "\n",
      "Finding the material with the highest bulk modulus...\n",
      "The material with the highest bulk modulus is:\n",
      "Chemical formula: C\n",
      "Bulk modulus: 435.6615 GPa\n"
     ]
    }
   ],
   "source": [
    "# Let's try to find the material with the highest bulk modulus\n",
    "print(\"\\nFinding the material with the highest bulk modulus...\")\n",
    "max_bulk_modulus_material = df.loc[df['K_VRH'].idxmax()]\n",
    "print(f\"The material with the highest bulk modulus is:\")\n",
    "print(f\"Chemical formula: {max_bulk_modulus_material['formula']}\")\n",
    "print(f\"Bulk modulus: {max_bulk_modulus_material['K_VRH']:.4f} GPa\")"
   ]
  },
  {
   "cell_type": "code",
   "execution_count": 23,
   "id": "95081def-1791-4634-a0ed-18197759ca08",
   "metadata": {},
   "outputs": [
    {
     "name": "stdout",
     "output_type": "stream",
     "text": [
      "\n",
      "Average properties of all materials:\n",
      "Average bulk modulus: 136.26 GPa\n",
      "Average shear modulus: 67.54 GPa\n",
      "Average number of sites: 12.43\n"
     ]
    }
   ],
   "source": [
    "# Let's calculate and print some average properties\n",
    "print(f\"\\nAverage properties of all materials:\")\n",
    "print(f\"Average bulk modulus: {df['K_VRH'].mean():.2f} GPa\")\n",
    "print(f\"Average shear modulus: {df['G_VRH'].mean():.2f} GPa\")\n",
    "print(f\"Average number of sites: {df['nsites'].mean():.2f}\")"
   ]
  },
  {
   "cell_type": "code",
   "execution_count": 24,
   "id": "34cb0e4b-3a73-4595-bd83-d4a77a5489d1",
   "metadata": {},
   "outputs": [
    {
     "data": {
      "image/png": "[encoded data removed]",
      "text/plain": [
       "<Figure size 600x400 with 1 Axes>"
      ]
     },
     "metadata": {},
     "output_type": "display_data"
    }
   ],
   "source": [
    "# Let's create a scatter plot of bulk modulus vs shear modulus\n",
    "plt.figure(figsize=(6, 4))\n",
    "plt.scatter(df['G_VRH'], df['K_VRH'], alpha=0.5)\n",
    "plt.xlabel('Shear Modulus (GPa)')\n",
    "plt.ylabel('Bulk Modulus (GPa)')\n",
    "plt.title('Bulk Modulus vs Shear Modulus')\n",
    "plt.show()"
   ]
  },
  {
   "cell_type": "code",
   "execution_count": 36,
   "id": "2aa1b32f-26d9-41d1-9e51-72743fbb64cc",
   "metadata": {},
   "outputs": [
    {
     "data": {
      "image/png": "[encoded data removed]",
      "text/plain": [
       "<Figure size 600x400 with 1 Axes>"
      ]
     },
     "metadata": {},
     "output_type": "display_data"
    },
    {
     "name": "stdout",
     "output_type": "stream",
     "text": [
      "\n",
      "Congratulations! You've just used Matminer to analyze elastic tensor data!\n"
     ]
    }
   ],
   "source": [
    "# Let's create a histogram of the number of sites\n",
    "plt.figure(figsize=(6, 4))\n",
    "plt.hist(df['nsites'], bins=50, edgecolor='black')\n",
    "plt.xlim([0, 60]) \n",
    "plt.xlabel('Number of Sites')\n",
    "plt.ylabel('Frequency')\n",
    "plt.title('Distribution of Number of Sites in Materials')\n",
    "plt.show()\n",
    "\n",
    "print(\"\\nCongratulations! You've just used Matminer to analyze elastic tensor data!\")"
   ]
  },
  {
   "cell_type": "code",
   "execution_count": null,
   "id": "fbd9d2e0-6185-4bdf-a3f9-69725311a8fc",
   "metadata": {},
   "outputs": [],
   "source": []
  }
 ],
 "metadata": {
  "kernelspec": {
   "display_name": "TCSP",
   "language": "python",
   "name": "tcsp"
  },
  "language_info": {
   "codemirror_mode": {
    "name": "ipython",
    "version": 3
   },
   "file_extension": ".py",
   "mimetype": "text/x-python",
   "name": "python",
   "nbconvert_exporter": "python",
   "pygments_lexer": "ipython3",
   "version": "3.11.7"
  }
 },
 "nbformat": 4,
 "nbformat_minor": 5
}
